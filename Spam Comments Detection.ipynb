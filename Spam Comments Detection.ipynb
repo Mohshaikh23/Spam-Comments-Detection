{
 "cells": [
  {
   "cell_type": "code",
   "execution_count": 1,
   "id": "d88bfd96",
   "metadata": {},
   "outputs": [
    {
     "data": {
      "text/html": [
       "<div>\n",
       "<style scoped>\n",
       "    .dataframe tbody tr th:only-of-type {\n",
       "        vertical-align: middle;\n",
       "    }\n",
       "\n",
       "    .dataframe tbody tr th {\n",
       "        vertical-align: top;\n",
       "    }\n",
       "\n",
       "    .dataframe thead th {\n",
       "        text-align: right;\n",
       "    }\n",
       "</style>\n",
       "<table border=\"1\" class=\"dataframe\">\n",
       "  <thead>\n",
       "    <tr style=\"text-align: right;\">\n",
       "      <th></th>\n",
       "      <th>COMMENT_ID</th>\n",
       "      <th>AUTHOR</th>\n",
       "      <th>DATE</th>\n",
       "      <th>CONTENT</th>\n",
       "      <th>CLASS</th>\n",
       "    </tr>\n",
       "  </thead>\n",
       "  <tbody>\n",
       "    <tr>\n",
       "      <th>330</th>\n",
       "      <td>z12oex5p1miewvugp04cgjfqiq3xsxrolhk</td>\n",
       "      <td>Caius Ballad</td>\n",
       "      <td>2014-11-13T00:58:20</td>\n",
       "      <td>imagine if this guy put adsense on with all th...</td>\n",
       "      <td>0</td>\n",
       "    </tr>\n",
       "    <tr>\n",
       "      <th>155</th>\n",
       "      <td>z12yinh5ks2oinqzn04cctkgvvrohbrazvo0k</td>\n",
       "      <td>Rancy Gaming</td>\n",
       "      <td>2014-11-06T09:41:07</td>\n",
       "      <td>What free gift cards? Go here  http://www.swag...</td>\n",
       "      <td>1</td>\n",
       "    </tr>\n",
       "    <tr>\n",
       "      <th>267</th>\n",
       "      <td>z12cwnzbunaji14ah04cf3jizmzpz3igxj4</td>\n",
       "      <td>CHILD</td>\n",
       "      <td>2014-11-08T05:46:31</td>\n",
       "      <td>WHY DOES THIS HAVE 2 BILLION VIEWS THIS SONG I...</td>\n",
       "      <td>0</td>\n",
       "    </tr>\n",
       "    <tr>\n",
       "      <th>327</th>\n",
       "      <td>z12svt0reqvqyppzw04cgt1axrqhddcbkfc</td>\n",
       "      <td>derrick lawson</td>\n",
       "      <td>2014-11-12T20:21:27</td>\n",
       "      <td>https://www.facebook.com/FUDAIRYQUEEN?pnref=st...</td>\n",
       "      <td>1</td>\n",
       "    </tr>\n",
       "    <tr>\n",
       "      <th>118</th>\n",
       "      <td>z13mzp44ul21sdqcj22sgriokxyuy5det</td>\n",
       "      <td>tom hawksbee</td>\n",
       "      <td>2014-11-05T07:49:21</td>\n",
       "      <td>It is 0 zero﻿</td>\n",
       "      <td>0</td>\n",
       "    </tr>\n",
       "  </tbody>\n",
       "</table>\n",
       "</div>"
      ],
      "text/plain": [
       "                                COMMENT_ID          AUTHOR  \\\n",
       "330    z12oex5p1miewvugp04cgjfqiq3xsxrolhk    Caius Ballad   \n",
       "155  z12yinh5ks2oinqzn04cctkgvvrohbrazvo0k    Rancy Gaming   \n",
       "267    z12cwnzbunaji14ah04cf3jizmzpz3igxj4           CHILD   \n",
       "327    z12svt0reqvqyppzw04cgt1axrqhddcbkfc  derrick lawson   \n",
       "118      z13mzp44ul21sdqcj22sgriokxyuy5det    tom hawksbee   \n",
       "\n",
       "                    DATE                                            CONTENT  \\\n",
       "330  2014-11-13T00:58:20  imagine if this guy put adsense on with all th...   \n",
       "155  2014-11-06T09:41:07  What free gift cards? Go here  http://www.swag...   \n",
       "267  2014-11-08T05:46:31  WHY DOES THIS HAVE 2 BILLION VIEWS THIS SONG I...   \n",
       "327  2014-11-12T20:21:27  https://www.facebook.com/FUDAIRYQUEEN?pnref=st...   \n",
       "118  2014-11-05T07:49:21                                      It is 0 zero﻿   \n",
       "\n",
       "     CLASS  \n",
       "330      0  \n",
       "155      1  \n",
       "267      0  \n",
       "327      1  \n",
       "118      0  "
      ]
     },
     "execution_count": 1,
     "metadata": {},
     "output_type": "execute_result"
    }
   ],
   "source": [
    "import pandas as pd\n",
    "import numpy as np\n",
    "from sklearn.feature_extraction.text import CountVectorizer\n",
    "from sklearn.model_selection import train_test_split\n",
    "from sklearn.naive_bayes import BernoulliNB\n",
    "\n",
    "data = pd.read_csv(\"Youtube01-Psy.csv\")\n",
    "data.sample(5)"
   ]
  },
  {
   "cell_type": "code",
   "execution_count": 2,
   "id": "4ef2238a",
   "metadata": {},
   "outputs": [
    {
     "name": "stdout",
     "output_type": "stream",
     "text": [
      "                                               CONTENT  CLASS\n",
      "108                            This is a weird video.﻿      0\n",
      "344  everyones back lool this is almost 3 years old...      0\n",
      "256  Hey guys! Check this out: Kollektivet - Don't ...      1\n",
      "34                           2 billion....Coming soon﻿      0\n",
      "336  To everyone joking about how he hacked to get ...      0\n"
     ]
    }
   ],
   "source": [
    "data = data[[\"CONTENT\", \"CLASS\"]]\n",
    "print(data.sample(5))"
   ]
  },
  {
   "cell_type": "markdown",
   "id": "bd0ea54e",
   "metadata": {},
   "source": [
    "The class column contains values 0 and 1. 0 indicates not spam, and 1 indicates spam. So to make it look better, I will use spam and not spam labels instead of 1 and 0:"
   ]
  },
  {
   "cell_type": "code",
   "execution_count": 3,
   "id": "39820af5",
   "metadata": {},
   "outputs": [
    {
     "name": "stdout",
     "output_type": "stream",
     "text": [
      "                                               CONTENT         CLASS\n",
      "205             2.126.521.750  views!!!!!!!!!!!!!!!!!﻿      Not Spam\n",
      "181                        Please check out my vidios﻿  Spam Comment\n",
      "1    Hey guys check out my new channel and our firs...  Spam Comment\n",
      "334  Don't mind me, I'm just checking what the view...      Not Spam\n",
      "45   ....subscribe......  ......to my........  .......  Spam Comment\n"
     ]
    }
   ],
   "source": [
    "data[\"CLASS\"] = data[\"CLASS\"].map({0: \"Not Spam\",\n",
    "                                   1: \"Spam Comment\"})\n",
    "print(data.sample(5))"
   ]
  },
  {
   "cell_type": "markdown",
   "id": "8985e561",
   "metadata": {},
   "source": [
    "Training a Classification Model\n",
    "Now let’s move further by training a classification Machine Learning model to classify spam and not spam comments. As this problem is a problem of binary classification, I will use the Bernoulli Naive Bayes algorithm to train the model:\n",
    "\n"
   ]
  },
  {
   "cell_type": "code",
   "execution_count": 4,
   "id": "ea2b6cbd",
   "metadata": {},
   "outputs": [
    {
     "name": "stdout",
     "output_type": "stream",
     "text": [
      "0.9857142857142858\n"
     ]
    }
   ],
   "source": [
    "x = np.array(data[\"CONTENT\"])\n",
    "y = np.array(data[\"CLASS\"])\n",
    "\n",
    "cv = CountVectorizer()\n",
    "x = cv.fit_transform(x)\n",
    "xtrain, xtest, ytrain, ytest = train_test_split(x, y, \n",
    "                                                test_size=0.2, \n",
    "                                                random_state=42)\n",
    "\n",
    "model = BernoulliNB()\n",
    "model.fit(xtrain, ytrain)\n",
    "print(model.score(xtest, ytest))"
   ]
  },
  {
   "cell_type": "markdown",
   "id": "51d4bdbf",
   "metadata": {},
   "source": [
    "Now let’s test the model by giving spam and not spam comments as input:"
   ]
  },
  {
   "cell_type": "code",
   "execution_count": 5,
   "id": "4e9946d5",
   "metadata": {},
   "outputs": [
    {
     "name": "stdout",
     "output_type": "stream",
     "text": [
      "['Not Spam']\n"
     ]
    }
   ],
   "source": [
    "sample = \"dm for paid version\" \n",
    "data = cv.transform([sample]).toarray()\n",
    "print(model.predict(data))"
   ]
  },
  {
   "cell_type": "code",
   "execution_count": 6,
   "id": "3e13bbdf",
   "metadata": {
    "scrolled": true
   },
   "outputs": [
    {
     "name": "stdout",
     "output_type": "stream",
     "text": [
      "['Spam Comment']\n"
     ]
    }
   ],
   "source": [
    "sample = \"visit to https://myhub.com\" \n",
    "data = cv.transform([sample]).toarray()\n",
    "print(model.predict(data)) "
   ]
  },
  {
   "cell_type": "code",
   "execution_count": 7,
   "id": "d4adaeda",
   "metadata": {},
   "outputs": [],
   "source": [
    "import pickle\n",
    "\n",
    "# Save the model\n",
    "model = ...  # Your trained model here\n",
    "with open('model.pkl', 'wb') as f:\n",
    "    pickle.dump(model, f)"
   ]
  },
  {
   "cell_type": "code",
   "execution_count": null,
   "id": "e9e40757",
   "metadata": {},
   "outputs": [],
   "source": []
  }
 ],
 "metadata": {
  "kernelspec": {
   "display_name": "Python 3 (ipykernel)",
   "language": "python",
   "name": "python3"
  },
  "language_info": {
   "codemirror_mode": {
    "name": "ipython",
    "version": 3
   },
   "file_extension": ".py",
   "mimetype": "text/x-python",
   "name": "python",
   "nbconvert_exporter": "python",
   "pygments_lexer": "ipython3",
   "version": "3.9.16"
  }
 },
 "nbformat": 4,
 "nbformat_minor": 5
}
